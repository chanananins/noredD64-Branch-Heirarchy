{
 "cells": [
  {
   "cell_type": "code",
   "execution_count": 43,
   "id": "944e4e37",
   "metadata": {},
   "outputs": [
    {
     "name": "stderr",
     "output_type": "stream",
     "text": [
      "/var/folders/vm/2wd5hb8d1kv6gjx90yz6zn0w0000gn/T/ipykernel_16470/3336100949.py:19: SettingWithCopyWarning: \n",
      "A value is trying to be set on a copy of a slice from a DataFrame\n",
      "\n",
      "See the caveats in the documentation: https://pandas.pydata.org/pandas-docs/stable/user_guide/indexing.html#returning-a-view-versus-a-copy\n",
      "  noredD64csvdata['Frame Split'][int2] = noredD64csv['FRAME'][int2]\n"
     ]
    }
   ],
   "source": [
    "import pandas as pd\n",
    "import numpy as np\n",
    "\n",
    "noredD64branch = pd.read_csv('/Users/chloeyachanin/Desktop/noredD62exportbranchheirarchy.csv')\n",
    "noredD64branchdata = pd.DataFrame(noredD64branch)\n",
    "noredD64csv = pd.read_csv('/Users/chloeyachanin/Desktop/noredD62export.csv')\n",
    "noredD64csvdata = pd.DataFrame(noredD64csv)\n",
    "#print(noredD64branch)\n",
    "#print(noredD64csv)\n",
    "\n",
    "#def get_Frame(spotID):\n",
    "#for i in noredD64branchdata.itterows():\n",
    "    #print(noredD64branchdata[i])\n",
    "noredD64csvdata['Frame Split'] = 0\n",
    "#noredD64csv['FRAME'] = pd.to_numeric(noredD64csv['FRAME'])\n",
    "for int in noredD64branch.index:\n",
    "    for int2 in noredD64csv.index:\n",
    "        if(noredD64branch['LAST'][int] == noredD64csv['ID'][int2]):\n",
    "            noredD64csvdata['Frame Split'][int2] = noredD64csv['FRAME'][int2]\n",
    "            #print(str(noredD64branch['LAST'][int]) + \" , \" + str(noredD64csv['ID'][int2]) + \" , \" + str(noredD64csv['FRAME'][int2]))\n",
    "\n",
    "noredD64csvdata['Frame Split'] = pd.to_numeric(noredD64csvdata['Frame Split'])\n",
    "#noredD64csvdata['Frame Split'] = noredD64csvdata['Frame Split']\n",
    "#noredD64csvdata.head()\n",
    "\n",
    "noredD64csvdata.to_csv(r'/Users/chloeyachanin/Desktop/noredD62python.csv')"
   ]
  },
  {
   "cell_type": "code",
   "execution_count": null,
   "id": "3473054a",
   "metadata": {},
   "outputs": [],
   "source": []
  },
  {
   "cell_type": "code",
   "execution_count": null,
   "id": "c16706d9",
   "metadata": {},
   "outputs": [],
   "source": []
  }
 ],
 "metadata": {
  "kernelspec": {
   "display_name": "Python 3 (ipykernel)",
   "language": "python",
   "name": "python3"
  },
  "language_info": {
   "codemirror_mode": {
    "name": "ipython",
    "version": 3
   },
   "file_extension": ".py",
   "mimetype": "text/x-python",
   "name": "python",
   "nbconvert_exporter": "python",
   "pygments_lexer": "ipython3",
   "version": "3.9.13"
  }
 },
 "nbformat": 4,
 "nbformat_minor": 5
}
